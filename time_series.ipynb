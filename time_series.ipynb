{
 "cells": [
  {
   "cell_type": "code",
   "execution_count": 12,
   "metadata": {},
   "outputs": [],
   "source": [
    "import numpy as np\n",
    "import pandas as pd"
   ]
  },
  {
   "cell_type": "markdown",
   "metadata": {},
   "source": [
    "three modules\n",
    "- `datetime`\n",
    "- `time`\n",
    "- `calendar`"
   ]
  },
  {
   "cell_type": "markdown",
   "metadata": {},
   "source": [
    "# `datetime`"
   ]
  },
  {
   "cell_type": "code",
   "execution_count": 13,
   "metadata": {},
   "outputs": [
    {
     "name": "stdout",
     "output_type": "stream",
     "text": [
      "2022-07-22 21:08:13.795270\n",
      "2022 7 22\n"
     ]
    }
   ],
   "source": [
    "from datetime import datetime\n",
    "now = datetime.now()\n",
    "print(now)\n",
    "print(now.year, now.month, now.day)"
   ]
  },
  {
   "cell_type": "markdown",
   "metadata": {},
   "source": [
    "`timedelta` represents temporal difference"
   ]
  },
  {
   "cell_type": "code",
   "execution_count": 20,
   "metadata": {},
   "outputs": [
    {
     "data": {
      "text/plain": [
       "datetime.timedelta(days=926, seconds=56700)"
      ]
     },
     "execution_count": 20,
     "metadata": {},
     "output_type": "execute_result"
    }
   ],
   "source": [
    "delta = datetime(2011, 1, 7) - datetime(2008, 6, 24, 8, 15)\n",
    "delta"
   ]
  },
  {
   "cell_type": "code",
   "execution_count": 21,
   "metadata": {},
   "outputs": [
    {
     "data": {
      "text/plain": [
       "926"
      ]
     },
     "execution_count": 21,
     "metadata": {},
     "output_type": "execute_result"
    }
   ],
   "source": [
    "delta.days"
   ]
  },
  {
   "cell_type": "code",
   "execution_count": 22,
   "metadata": {},
   "outputs": [
    {
     "data": {
      "text/plain": [
       "56700"
      ]
     },
     "execution_count": 22,
     "metadata": {},
     "output_type": "execute_result"
    }
   ],
   "source": [
    "delta.seconds"
   ]
  },
  {
   "cell_type": "code",
   "execution_count": 23,
   "metadata": {},
   "outputs": [
    {
     "data": {
      "text/plain": [
       "datetime.datetime(2011, 1, 19, 0, 0)"
      ]
     },
     "execution_count": 23,
     "metadata": {},
     "output_type": "execute_result"
    }
   ],
   "source": [
    "from datetime import timedelta\n",
    "start = datetime(2011, 1, 7)\n",
    "delta = timedelta(12) # add 12 days\n",
    "start + delta"
   ]
  },
  {
   "cell_type": "code",
   "execution_count": 24,
   "metadata": {},
   "outputs": [
    {
     "data": {
      "text/plain": [
       "datetime.datetime(2010, 12, 14, 0, 0)"
      ]
     },
     "execution_count": 24,
     "metadata": {},
     "output_type": "execute_result"
    }
   ],
   "source": [
    "start - 2 * delta"
   ]
  },
  {
   "cell_type": "markdown",
   "metadata": {},
   "source": [
    "- `date` stores date(year, month,day) using Georgian calendar\n",
    "- `time` stores time of day(hrs, mins, secs, microsecs)\n",
    "- `datetime` stores both date and time\n",
    "- `timedelta` difference between two datetime objects as (days, seconds, microsecs)\n",
    "- `tzinfo` base type for storing time zone info "
   ]
  },
  {
   "cell_type": "markdown",
   "metadata": {},
   "source": [
    "converting between string and datetime\n",
    "using `str` or `strftime`"
   ]
  },
  {
   "cell_type": "code",
   "execution_count": 34,
   "metadata": {},
   "outputs": [
    {
     "data": {
      "text/plain": [
       "'2011-01-03 23:00:00'"
      ]
     },
     "execution_count": 34,
     "metadata": {},
     "output_type": "execute_result"
    }
   ],
   "source": [
    "stamp = datetime(2011, 1, 3, 23)\n",
    "str(stamp)\n"
   ]
  },
  {
   "cell_type": "code",
   "execution_count": 44,
   "metadata": {},
   "outputs": [
    {
     "data": {
      "text/plain": [
       "'2011-01-03-11-00-000000-'"
      ]
     },
     "execution_count": 44,
     "metadata": {},
     "output_type": "execute_result"
    }
   ],
   "source": [
    "stamp.strftime(\"%Y-%m-%d-%I-%S-%f-%Z\")"
   ]
  },
  {
   "cell_type": "code",
   "execution_count": 46,
   "metadata": {},
   "outputs": [
    {
     "data": {
      "text/plain": [
       "datetime.datetime(2011, 1, 3, 0, 0)"
      ]
     },
     "execution_count": 46,
     "metadata": {},
     "output_type": "execute_result"
    }
   ],
   "source": [
    "# convert string to datetime\n",
    "value = \"2011-01-03\"\n",
    "datetime.strptime(value, \"%Y-%m-%d\")"
   ]
  },
  {
   "cell_type": "markdown",
   "metadata": {},
   "source": [
    "`pandas` datetime"
   ]
  },
  {
   "cell_type": "code",
   "execution_count": 50,
   "metadata": {},
   "outputs": [
    {
     "data": {
      "text/plain": [
       "DatetimeIndex(['2011-07-06 12:00:00', '2011-08-06 00:00:00'], dtype='datetime64[ns]', freq=None)"
      ]
     },
     "execution_count": 50,
     "metadata": {},
     "output_type": "execute_result"
    }
   ],
   "source": [
    "datestrs = [\"2011-07-06 12:00:00\", \"2011-08-06 00:00:00\"]\n",
    "pd.to_datetime(datestrs)\n"
   ]
  },
  {
   "cell_type": "code",
   "execution_count": 53,
   "metadata": {},
   "outputs": [
    {
     "data": {
      "text/plain": [
       "DatetimeIndex(['2011-07-06 12:00:00', '2011-08-06 00:00:00', 'NaT', 'NaT',\n",
       "               'NaT'],\n",
       "              dtype='datetime64[ns]', freq=None)"
      ]
     },
     "execution_count": 53,
     "metadata": {},
     "output_type": "execute_result"
    }
   ],
   "source": [
    "idx = pd.to_datetime(datestrs + [None])\n",
    "idx"
   ]
  },
  {
   "cell_type": "code",
   "execution_count": 56,
   "metadata": {},
   "outputs": [
    {
     "data": {
      "text/plain": [
       "DatetimeIndex(['2011-07-06 12:00:00', '2011-08-06 00:00:00', 'NaT', 'NaT',\n",
       "               'NaT', 'NaT'],\n",
       "              dtype='datetime64[ns]', freq=None)"
      ]
     },
     "execution_count": 56,
     "metadata": {},
     "output_type": "execute_result"
    }
   ],
   "source": [
    "datestrs.append(None)\n",
    "pd.to_datetime(datestrs)"
   ]
  },
  {
   "cell_type": "markdown",
   "metadata": {},
   "source": [
    "`NaT` is not a time"
   ]
  },
  {
   "cell_type": "code",
   "execution_count": 57,
   "metadata": {},
   "outputs": [
    {
     "data": {
      "text/plain": [
       "array([False, False,  True,  True,  True])"
      ]
     },
     "execution_count": 57,
     "metadata": {},
     "output_type": "execute_result"
    }
   ],
   "source": [
    "pd.isna(idx)"
   ]
  },
  {
   "cell_type": "markdown",
   "metadata": {},
   "source": [
    "# Pandas TimeSeries Basics"
   ]
  },
  {
   "cell_type": "code",
   "execution_count": 58,
   "metadata": {},
   "outputs": [
    {
     "data": {
      "text/plain": [
       "2011-01-02    1.091964\n",
       "2011-01-05    0.365038\n",
       "2011-01-07    1.440131\n",
       "2011-01-08   -0.429243\n",
       "2011-01-10    0.108160\n",
       "2011-01-12   -0.636599\n",
       "dtype: float64"
      ]
     },
     "execution_count": 58,
     "metadata": {},
     "output_type": "execute_result"
    }
   ],
   "source": [
    "dates = [datetime(2011, 1, 2), datetime(2011, 1, 5),\n",
    "         datetime(2011, 1, 7), datetime(2011, 1, 8),\n",
    "         datetime(2011, 1, 10), datetime(2011, 1, 12)]\n",
    "ts = pd.Series(np.random.standard_normal(len(dates)), index=dates)\n",
    "ts"
   ]
  },
  {
   "cell_type": "markdown",
   "metadata": {},
   "source": [
    "operations on time indexed dataframes aligns on dates"
   ]
  },
  {
   "cell_type": "code",
   "execution_count": 60,
   "metadata": {},
   "outputs": [
    {
     "data": {
      "text/plain": [
       "2011-01-02    2.183928\n",
       "2011-01-05         NaN\n",
       "2011-01-07    2.880262\n",
       "2011-01-08         NaN\n",
       "2011-01-10    0.216321\n",
       "2011-01-12         NaN\n",
       "dtype: float64"
      ]
     },
     "execution_count": 60,
     "metadata": {},
     "output_type": "execute_result"
    }
   ],
   "source": [
    "ts + ts[::2] # adds every other value with itself"
   ]
  },
  {
   "cell_type": "code",
   "execution_count": 62,
   "metadata": {},
   "outputs": [
    {
     "data": {
      "text/plain": [
       "dtype('<M8[ns]')"
      ]
     },
     "execution_count": 62,
     "metadata": {},
     "output_type": "execute_result"
    }
   ],
   "source": [
    "ts.index.dtype # stored as numpy's datetime64 at nanoseconds resolution"
   ]
  },
  {
   "cell_type": "markdown",
   "metadata": {},
   "source": [
    "`pandas.Timestamp` can be substituted for `datetime` but *may* not the other way around\n",
    "- Timestamp stores at nanosecond resolution whereas datetime is microseconds\n",
    "- Timestamp can handle timezone conversions and store frequency information"
   ]
  },
  {
   "cell_type": "code",
   "execution_count": 63,
   "metadata": {},
   "outputs": [
    {
     "data": {
      "text/plain": [
       "Timestamp('2011-01-02 00:00:00')"
      ]
     },
     "execution_count": 63,
     "metadata": {},
     "output_type": "execute_result"
    }
   ],
   "source": [
    "ts.index[0]"
   ]
  },
  {
   "cell_type": "markdown",
   "metadata": {},
   "source": [
    "Indexing"
   ]
  },
  {
   "cell_type": "code",
   "execution_count": 64,
   "metadata": {},
   "outputs": [
    {
     "data": {
      "text/plain": [
       "0.365038271379911"
      ]
     },
     "execution_count": 64,
     "metadata": {},
     "output_type": "execute_result"
    }
   ],
   "source": [
    "ts[\"2011-01-05\"]"
   ]
  },
  {
   "cell_type": "code",
   "execution_count": 67,
   "metadata": {},
   "outputs": [
    {
     "data": {
      "text/plain": [
       "1.4401309360428818"
      ]
     },
     "execution_count": 67,
     "metadata": {},
     "output_type": "execute_result"
    }
   ],
   "source": [
    "stamp = ts.index[2]\n",
    "ts.loc[stamp]\n",
    "ts[stamp]"
   ]
  },
  {
   "cell_type": "markdown",
   "metadata": {},
   "source": [
    " default `freq` is days `D` in `date_range`, periods are generated based on frequency"
   ]
  },
  {
   "cell_type": "code",
   "execution_count": 71,
   "metadata": {},
   "outputs": [
    {
     "data": {
      "text/plain": [
       "2000-01-01 09:00:00    0.196652\n",
       "2000-01-02 09:00:00   -0.978825\n",
       "2000-01-03 09:00:00   -0.227206\n",
       "2000-01-04 09:00:00    0.078074\n",
       "2000-01-05 09:00:00    0.450239\n",
       "                         ...   \n",
       "2002-09-22 09:00:00    0.635619\n",
       "2002-09-23 09:00:00   -0.305815\n",
       "2002-09-24 09:00:00    1.369600\n",
       "2002-09-25 09:00:00   -1.954314\n",
       "2002-09-26 09:00:00    0.111125\n",
       "Freq: D, Length: 1000, dtype: float64"
      ]
     },
     "execution_count": 71,
     "metadata": {},
     "output_type": "execute_result"
    }
   ],
   "source": [
    "longer_ts = pd.Series(np.random.standard_normal(1000),\n",
    "                     index=pd.date_range(\"2000-01-01-09\", periods=1000))\n",
    "                     \n",
    "longer_ts                "
   ]
  },
  {
   "cell_type": "code",
   "execution_count": 72,
   "metadata": {},
   "outputs": [
    {
     "data": {
      "text/plain": [
       "2001-01-01 09:00:00    2.751242\n",
       "2001-01-02 09:00:00   -2.179290\n",
       "2001-01-03 09:00:00   -0.146192\n",
       "2001-01-04 09:00:00   -0.055184\n",
       "2001-01-05 09:00:00   -0.582200\n",
       "                         ...   \n",
       "2001-12-27 09:00:00    0.220069\n",
       "2001-12-28 09:00:00    0.256989\n",
       "2001-12-29 09:00:00   -1.219508\n",
       "2001-12-30 09:00:00    1.027289\n",
       "2001-12-31 09:00:00    1.148620\n",
       "Freq: D, Length: 365, dtype: float64"
      ]
     },
     "execution_count": 72,
     "metadata": {},
     "output_type": "execute_result"
    }
   ],
   "source": [
    "# subset by year\n",
    "longer_ts[\"2001\"]"
   ]
  },
  {
   "cell_type": "code",
   "execution_count": 73,
   "metadata": {},
   "outputs": [
    {
     "data": {
      "text/plain": [
       "2001-05-01 09:00:00   -0.863711\n",
       "2001-05-02 09:00:00   -0.911403\n",
       "2001-05-03 09:00:00   -0.451811\n",
       "2001-05-04 09:00:00    0.705887\n",
       "2001-05-05 09:00:00    0.325411\n",
       "2001-05-06 09:00:00    0.893961\n",
       "2001-05-07 09:00:00    1.360390\n",
       "2001-05-08 09:00:00    0.458763\n",
       "2001-05-09 09:00:00   -0.039651\n",
       "2001-05-10 09:00:00    0.007843\n",
       "2001-05-11 09:00:00    1.271037\n",
       "2001-05-12 09:00:00   -0.893327\n",
       "2001-05-13 09:00:00    0.515144\n",
       "2001-05-14 09:00:00   -0.084740\n",
       "2001-05-15 09:00:00   -0.173309\n",
       "2001-05-16 09:00:00   -0.802105\n",
       "2001-05-17 09:00:00   -0.215242\n",
       "2001-05-18 09:00:00    0.148674\n",
       "2001-05-19 09:00:00   -0.894670\n",
       "2001-05-20 09:00:00   -1.493811\n",
       "2001-05-21 09:00:00    0.504539\n",
       "2001-05-22 09:00:00   -0.671674\n",
       "2001-05-23 09:00:00    1.371451\n",
       "2001-05-24 09:00:00   -0.255703\n",
       "2001-05-25 09:00:00    0.356486\n",
       "2001-05-26 09:00:00   -0.290510\n",
       "2001-05-27 09:00:00   -2.227703\n",
       "2001-05-28 09:00:00   -0.946760\n",
       "2001-05-29 09:00:00    0.194913\n",
       "2001-05-30 09:00:00   -0.952172\n",
       "2001-05-31 09:00:00    1.036555\n",
       "Freq: D, dtype: float64"
      ]
     },
     "execution_count": 73,
     "metadata": {},
     "output_type": "execute_result"
    }
   ],
   "source": [
    "# subset by month\n",
    "longer_ts[\"2001-05\"]"
   ]
  },
  {
   "cell_type": "markdown",
   "metadata": {},
   "source": [
    "Slicing with `datetime` objects"
   ]
  },
  {
   "cell_type": "code",
   "execution_count": 74,
   "metadata": {},
   "outputs": [
    {
     "data": {
      "text/plain": [
       "2011-01-07    1.440131\n",
       "2011-01-08   -0.429243\n",
       "2011-01-10    0.108160\n",
       "dtype: float64"
      ]
     },
     "execution_count": 74,
     "metadata": {},
     "output_type": "execute_result"
    }
   ],
   "source": [
    "ts[datetime(2011,1,7):datetime(2011,1,10)]"
   ]
  },
  {
   "cell_type": "code",
   "execution_count": 78,
   "metadata": {},
   "outputs": [
    {
     "data": {
      "text/plain": [
       "2001-05-25 09:00:00    0.356486\n",
       "2001-05-26 09:00:00   -0.290510\n",
       "2001-05-27 09:00:00   -2.227703\n",
       "2001-05-28 09:00:00   -0.946760\n",
       "2001-05-29 09:00:00    0.194913\n",
       "Freq: D, dtype: float64"
      ]
     },
     "execution_count": 78,
     "metadata": {},
     "output_type": "execute_result"
    }
   ],
   "source": [
    "longer_ts[datetime(2001, 5, 25):datetime(2001, 5, 30)]"
   ]
  },
  {
   "cell_type": "code",
   "execution_count": 77,
   "metadata": {},
   "outputs": [
    {
     "data": {
      "text/plain": [
       "Timestamp('2000-01-01 09:00:00', freq='D')"
      ]
     },
     "execution_count": 77,
     "metadata": {},
     "output_type": "execute_result"
    }
   ],
   "source": [
    "longer_ts.index[0]"
   ]
  },
  {
   "cell_type": "code",
   "execution_count": 79,
   "metadata": {},
   "outputs": [
    {
     "data": {
      "text/plain": [
       "2001-05-25 09:00:00    0.356486\n",
       "2001-05-26 09:00:00   -0.290510\n",
       "2001-05-27 09:00:00   -2.227703\n",
       "2001-05-28 09:00:00   -0.946760\n",
       "2001-05-29 09:00:00    0.194913\n",
       "2001-05-30 09:00:00   -0.952172\n",
       "Freq: D, dtype: float64"
      ]
     },
     "execution_count": 79,
     "metadata": {},
     "output_type": "execute_result"
    }
   ],
   "source": [
    "longer_ts[\"2001-05-25\":\"2001-05-30\"]"
   ]
  },
  {
   "cell_type": "markdown",
   "metadata": {},
   "source": [
    "**NOTE** slicing produces views not copies, changes will reflected in original data"
   ]
  },
  {
   "cell_type": "markdown",
   "metadata": {},
   "source": [
    "`truncate` to slice series"
   ]
  },
  {
   "cell_type": "code",
   "execution_count": 80,
   "metadata": {},
   "outputs": [
    {
     "data": {
      "text/plain": [
       "2000-01-01 09:00:00    0.196652\n",
       "2000-01-02 09:00:00   -0.978825\n",
       "2000-01-03 09:00:00   -0.227206\n",
       "2000-01-04 09:00:00    0.078074\n",
       "2000-01-05 09:00:00    0.450239\n",
       "                         ...   \n",
       "2001-05-25 09:00:00    0.356486\n",
       "2001-05-26 09:00:00   -0.290510\n",
       "2001-05-27 09:00:00   -2.227703\n",
       "2001-05-28 09:00:00   -0.946760\n",
       "2001-05-29 09:00:00    0.194913\n",
       "Freq: D, Length: 515, dtype: float64"
      ]
     },
     "execution_count": 80,
     "metadata": {},
     "output_type": "execute_result"
    }
   ],
   "source": [
    "longer_ts.truncate(after=\"2001-05-30\")"
   ]
  },
  {
   "cell_type": "code",
   "execution_count": 84,
   "metadata": {},
   "outputs": [],
   "source": [
    "dates = pd.date_range(\"2000-03-11\", periods=30, freq=\"W-WED\") # weekly wednesday freq\n",
    "long_df = pd.DataFrame(np.random.standard_normal((30, 4)),\n",
    "    index=dates,\n",
    "    columns=[\"Colorado\", \"Texas\", \"New York\", \"Ohio\"])"
   ]
  },
  {
   "cell_type": "code",
   "execution_count": 88,
   "metadata": {},
   "outputs": [
    {
     "data": {
      "text/plain": [
       "Colorado    1.248780\n",
       "Texas      -0.657757\n",
       "New York    0.078938\n",
       "Ohio        0.006289\n",
       "Name: 2000-04-12 00:00:00, dtype: float64"
      ]
     },
     "execution_count": 88,
     "metadata": {},
     "output_type": "execute_result"
    }
   ],
   "source": [
    "long_df.loc[\"2000-04-12\"]"
   ]
  },
  {
   "cell_type": "markdown",
   "metadata": {},
   "source": [
    "Duplicate indices"
   ]
  },
  {
   "cell_type": "code",
   "execution_count": 89,
   "metadata": {},
   "outputs": [
    {
     "data": {
      "text/plain": [
       "2000-01-01   -0.748545\n",
       "2000-01-02    1.721871\n",
       "2000-01-02   -1.342584\n",
       "2000-01-02   -0.154013\n",
       "2000-01-03   -0.517951\n",
       "dtype: float64"
      ]
     },
     "execution_count": 89,
     "metadata": {},
     "output_type": "execute_result"
    }
   ],
   "source": [
    "dates = pd.DatetimeIndex([\"2000-01-01\", \"2000-01-02\", \"2000-01-02\",\n",
    "    \"2000-01-02\", \"2000-01-03\"])\n",
    "dup_ts = pd.Series(np.random.standard_normal(dates.shape[0]), index=dates)    \n",
    "dup_ts\n"
   ]
  },
  {
   "cell_type": "code",
   "execution_count": 90,
   "metadata": {},
   "outputs": [
    {
     "data": {
      "text/plain": [
       "False"
      ]
     },
     "execution_count": 90,
     "metadata": {},
     "output_type": "execute_result"
    }
   ],
   "source": [
    "dup_ts.index.is_unique"
   ]
  },
  {
   "cell_type": "code",
   "execution_count": 91,
   "metadata": {},
   "outputs": [
    {
     "data": {
      "text/plain": [
       "2000-01-02    1.721871\n",
       "2000-01-02   -1.342584\n",
       "2000-01-02   -0.154013\n",
       "dtype: float64"
      ]
     },
     "execution_count": 91,
     "metadata": {},
     "output_type": "execute_result"
    }
   ],
   "source": [
    "dup_ts[\"2000-01-02\"]"
   ]
  },
  {
   "cell_type": "code",
   "execution_count": 93,
   "metadata": {},
   "outputs": [
    {
     "data": {
      "text/plain": [
       "2000-01-01   -0.748545\n",
       "2000-01-02    0.075091\n",
       "2000-01-03   -0.517951\n",
       "dtype: float64"
      ]
     },
     "execution_count": 93,
     "metadata": {},
     "output_type": "execute_result"
    }
   ],
   "source": [
    "grouped = dup_ts.groupby(level=0) # use grouping by levels to group on duplicate timestamps\n",
    "grouped.mean()"
   ]
  },
  {
   "cell_type": "markdown",
   "metadata": {},
   "source": [
    "# Date Ranges in depth"
   ]
  },
  {
   "cell_type": "code",
   "execution_count": null,
   "metadata": {},
   "outputs": [],
   "source": []
  }
 ],
 "metadata": {
  "kernelspec": {
   "display_name": "Python 3.9.12 ('base')",
   "language": "python",
   "name": "python3"
  },
  "language_info": {
   "codemirror_mode": {
    "name": "ipython",
    "version": 3
   },
   "file_extension": ".py",
   "mimetype": "text/x-python",
   "name": "python",
   "nbconvert_exporter": "python",
   "pygments_lexer": "ipython3",
   "version": "3.9.12"
  },
  "orig_nbformat": 4,
  "vscode": {
   "interpreter": {
    "hash": "2fd157f93b64c9f2d745018c2b4ce82b38b41bad83b04e60b1ce4052ac3b68f8"
   }
  }
 },
 "nbformat": 4,
 "nbformat_minor": 2
}
